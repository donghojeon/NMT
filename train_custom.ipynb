{
 "cells": [
  {
   "cell_type": "markdown",
   "metadata": {},
   "source": [
    "# 190118, 영->한 번역 train.py 커스터마이징\n",
    "본래 코드가 짜쯩나서 쥬피터로 다시짬.\n"
   ]
  },
  {
   "cell_type": "code",
   "execution_count": 1,
   "metadata": {},
   "outputs": [],
   "source": [
    "import sys, os.path\n",
    "\n",
    "import torch\n",
    "import torch.nn as nn\n",
    "\n",
    "from data_loader import DataLoader\n",
    "import data_loader\n",
    "\n",
    "from simple_nmt.seq2seq import Seq2Seq\n",
    "from simple_nmt.rnnlm import LanguageModel\n",
    "\n",
    "# from simple_nmt.trainer import Trainer\n",
    "from simple_nmt.trainer_custom import Trainer\n",
    "# from simple_nmt.rl_trainer import MinimumRiskTrainer\n",
    "from simple_nmt.rl_trainer_custom import MinimumRiskTrainer\n",
    "\n",
    "from simple_nmt.dual_trainer import DualTrainer\n",
    "from simple_nmt.lm_trainer import LanguageModelTrainer\n",
    "\n",
    "%matplotlib inline\n",
    "import matplotlib.pyplot as plt"
   ]
  },
  {
   "cell_type": "code",
   "execution_count": 2,
   "metadata": {},
   "outputs": [
    {
     "name": "stdout",
     "output_type": "stream",
     "text": [
      "{   'adam': False,\n",
      "    'batch_size': 32,\n",
      "    'dropout': 0.2,\n",
      "    'dsl': 'store_true',\n",
      "    'dsl_continue_train_lm': 'store_true',\n",
      "    'dsl_lambda': 0.001,\n",
      "    'dsl_n_epochs': 10,\n",
      "    'dsl_retrain_lm': 'store_true',\n",
      "    'early_stop': 15,\n",
      "    'gpu_id': 0,\n",
      "    'hidden_size': 512,\n",
      "    'lang': 'enko',\n",
      "    'lm_n_epochs': 10,\n",
      "    'lr': 1,\n",
      "    'lr_decay_rate': 0.5,\n",
      "    'lr_decay_start_at': 10,\n",
      "    'lr_slow_decay': 'store_true',\n",
      "    'max_grad_norm': 5.0,\n",
      "    'max_length': 80,\n",
      "    'min_lr': 1e-06,\n",
      "    'model': './models/enko.pth',\n",
      "    'n_epochs': 40,\n",
      "    'n_layers': 4,\n",
      "    'n_samples': 1,\n",
      "    'rl_lr': 0.01,\n",
      "    'rl_n_epochs': 20,\n",
      "    'rl_n_gram': 6,\n",
      "    'train': './data/corpus.train',\n",
      "    'train_ratio_per_epoch': 1.0,\n",
      "    'valid': './data/corpus.valid',\n",
      "    'verbose': 1,\n",
      "    'word_vec_dim': 256}\n"
     ]
    }
   ],
   "source": [
    "class Myconfig():\n",
    "    def __init__(self):\n",
    "        self.n_epochs       = 40  #22  # Number of epochs\n",
    "        self.rl_n_epochs    = 20  #15  # Number of epochs for reinforcement learning. Default=10\n",
    "        self.model          = './models/enko.pth'  # model file name\n",
    "        self.train          = './data/corpus.train'  # Training set file name except the extention. (ex: train.en --> train)\n",
    "        self.valid          = './data/corpus.valid'  # Validation set file name except the extention. (ex: valid.en --> valid)\n",
    "        self.lang           = 'enko'  # Set of extention represents language pair. (ex: en + ko --> enko)\n",
    "        self.gpu_id         = 0\n",
    "        self.batch_size     = 32\n",
    "        self.verbose        = 1   # 0,1,2\n",
    "        self.early_stop     = 15   # 0 : on\n",
    "        self.max_length     = 80  # Maximum length of the training sequence. Default=80\n",
    "        self.dropout        = 0.2\n",
    "        self.word_vec_dim   = 256  # Word embedding vector dimension. Default=512\n",
    "        self.hidden_size    = 512  # Hidden size of LSTM. Default=768\n",
    "        self.n_layers       = 4  # Number of layers in LSTM. Default=4'   \n",
    "        self.max_grad_norm  = 5.  # Threshold for gradient clipping. Default=5.0\n",
    "        self.adam           = False # SGD or ADAM, Use Adam instead of using SGD.\n",
    "        self.lr             = 1  #0.001          # Initial learning rate. Default=1.0\n",
    "        self.min_lr         = 0.000001  # Minimum learning rate. Default=.000001\n",
    "        self.lr_decay_start_at = 10  # Start learning rate decay from this epoch, 10 이상부턴 learning rate decay 적용\n",
    "        self.lr_slow_decay  ='store_true'  # Decay learning rate only if there is no improvement on last epoch\n",
    "        self.lr_decay_rate  = 0.5  # Learning rate decay rate. Default=0.5\n",
    "        self.train_ratio_per_epoch = 1.  # Ratio of using train-set in one training epoch. Default=1\n",
    "        self.dsl            = 'store_true'  # Training with Dual Supervised Learning method\n",
    "        self.lm_n_epochs    = 10  # Number of epochs for language model training. Default=5\n",
    "        self.dsl_n_epochs   = 10  # Number of epochs for Dual Supervised Learning. \\'--n_epochs\\' - \\'--dsl_n_epochs\\' will be number of epochs for pretraining (without regularization term)\n",
    "        self.dsl_lambda     = 1e-3  # Lagrangian Multiplier for regularization term. Default=1e-3\n",
    "        self.dsl_retrain_lm = 'store_true'  # Retrain the language models whatever\n",
    "        self.dsl_continue_train_lm = 'store_true'  # Continue to train the language models watever\n",
    "        self.rl_lr          = 0.01  # Learning rate for reinforcement learning. Default=.01\n",
    "        self.n_samples      = 1  # Number of samples to get baseline. Default=1\n",
    "        self.rl_n_gram      = 6 # Maximum number of tokens to calculate BLEU for reinforcement learning. Default=6\n",
    "\n",
    "config = Myconfig()\n",
    "def _print_config(config):\n",
    "    import pprint\n",
    "    pp = pprint.PrettyPrinter(indent=4)\n",
    "    pp.pprint(vars(config))\n",
    "_print_config(config)"
   ]
  },
  {
   "cell_type": "code",
   "execution_count": 3,
   "metadata": {},
   "outputs": [],
   "source": [
    "# If the model exists, load model and configuration to continue the training.\n",
    "if os.path.isfile(config.model):\n",
    "    saved_data = torch.load(config.model, map_location='cpu' if config.gpu_id < 0 else 'cuda:%d' % config.gpu_id)\n",
    "\n",
    "    prev_config = saved_data['config']\n",
    "    config = overwrite_config(config, prev_config)\n",
    "    config.lr = saved_data['current_lr'] if saved_data.get('current_lr') is not None else config.lr\n",
    "else:\n",
    "    saved_data = None"
   ]
  },
  {
   "cell_type": "code",
   "execution_count": 4,
   "metadata": {},
   "outputs": [],
   "source": [
    "# Load training and validation data set.\n",
    "loader = DataLoader(config.train,\n",
    "                    config.valid,\n",
    "                    (config.lang[:2], config.lang[-2:]),\n",
    "                    batch_size=config.batch_size,\n",
    "                    device=config.gpu_id,\n",
    "                    max_length=config.max_length,\n",
    "                    dsl=config.dsl\n",
    "                    )"
   ]
  },
  {
   "cell_type": "code",
   "execution_count": 5,
   "metadata": {},
   "outputs": [
    {
     "name": "stdout",
     "output_type": "stream",
     "text": [
      "model loaded\n"
     ]
    }
   ],
   "source": [
    "# Encoder's embedding layer input size\n",
    "input_size = len(loader.src.vocab)\n",
    "# Decoder's embedding layer input size and Generator's softmax layer output size\n",
    "output_size = len(loader.tgt.vocab)\n",
    "\n",
    "# Declare the model\n",
    "model = Seq2Seq(input_size,               # src vocab size\n",
    "                config.word_vec_dim,      # Word embedding vector size\n",
    "                config.hidden_size,       # LSTM's hidden vector size\n",
    "                output_size,              # tgt vocab size\n",
    "                n_layers=config.n_layers, # number of layers in LSTM\n",
    "                dropout_p=config.dropout  # dropout-rate in LSTM\n",
    "                )\n",
    "print('model loaded')"
   ]
  },
  {
   "cell_type": "code",
   "execution_count": 6,
   "metadata": {},
   "outputs": [
    {
     "name": "stdout",
     "output_type": "stream",
     "text": [
      "Seq2Seq(\n",
      "  (emb_src): Embedding(2430, 256)\n",
      "  (emb_dec): Embedding(3683, 256)\n",
      "  (encoder): Encoder(\n",
      "    (rnn): LSTM(256, 256, num_layers=4, batch_first=True, dropout=0.2, bidirectional=True)\n",
      "  )\n",
      "  (decoder): Decoder(\n",
      "    (rnn): LSTM(768, 512, num_layers=4, batch_first=True, dropout=0.2)\n",
      "  )\n",
      "  (attn): Attention(\n",
      "    (linear): Linear(in_features=512, out_features=512, bias=False)\n",
      "    (softmax): Softmax()\n",
      "  )\n",
      "  (concat): Linear(in_features=1024, out_features=512, bias=True)\n",
      "  (tanh): Tanh()\n",
      "  (generator): Generator(\n",
      "    (output): Linear(in_features=512, out_features=3683, bias=True)\n",
      "    (softmax): LogSoftmax()\n",
      "  )\n",
      ")\n",
      "NLLLoss()\n",
      "use gpu\n"
     ]
    }
   ],
   "source": [
    "# Default weight for loss equals to 1, but we don't need to get loss for PAD token.\n",
    "# Thus, set a weight for PAD to zero.\n",
    "# PAD는 고려하지 않으려고\n",
    "loss_weight = torch.ones(output_size)  \n",
    "loss_weight[data_loader.PAD] = 0.      \n",
    "# Instead of using Cross-Entropy loss, we can use Negative Log-Likelihood(NLL) loss    with log-probability.\n",
    "crit = nn.NLLLoss(weight=loss_weight, \n",
    "                  reduction='sum'\n",
    "                  )\n",
    "print(model)\n",
    "print(crit)\n",
    "\n",
    "# Pass models to GPU device if it is necessary.\n",
    "if config.gpu_id >= 0:\n",
    "    print('use gpu')\n",
    "    model.cuda(config.gpu_id)\n",
    "    crit.cuda(config.gpu_id)"
   ]
  },
  {
   "cell_type": "code",
   "execution_count": 7,
   "metadata": {},
   "outputs": [],
   "source": [
    "# Start training. This function maybe equivalant to 'fit' function in Keras.\n",
    "trainer_class = Trainer(model,\n",
    "                        crit,\n",
    "                        config=config,\n",
    "                        src_vocab=loader.src.vocab,\n",
    "                        tgt_vocab=loader.tgt.vocab\n",
    "                        )\n",
    "# If we have loaded model weight parameters, use that weights for declared model.\n",
    "if saved_data is not None:\n",
    "    trainer_class.best = saved_data  #  \n",
    "    trainer_class.get_best_model()"
   ]
  },
  {
   "cell_type": "code",
   "execution_count": 8,
   "metadata": {
    "scrolled": false
   },
   "outputs": [
    {
     "name": "stdout",
     "output_type": "stream",
     "text": [
      "train start - epoch : 40 / 2019-01-18 17:04:14.864836\n",
      "epoch: 1/40\tloss_tran / valid:7.2269e+00 / 5.9198e+00\tcurrent_lr:1.000000\n",
      "epoch: 2/40\tloss_tran / valid:6.0717e+00 / 5.2006e+00\tcurrent_lr:1.000000\n",
      "epoch: 3/40\tloss_tran / valid:5.0874e+00 / 4.4694e+00\tcurrent_lr:1.000000\n",
      "epoch: 4/40\tloss_tran / valid:4.3968e+00 / 3.9161e+00\tcurrent_lr:1.000000\n",
      "epoch: 5/40\tloss_tran / valid:3.7611e+00 / 3.4903e+00\tcurrent_lr:1.000000\n",
      "epoch: 6/40\tloss_tran / valid:3.1784e+00 / 2.9290e+00\tcurrent_lr:1.000000\n",
      "epoch: 7/40\tloss_tran / valid:2.6899e+00 / 2.5307e+00\tcurrent_lr:1.000000\n",
      "epoch: 8/40\tloss_tran / valid:2.2499e+00 / 2.2094e+00\tcurrent_lr:1.000000\n",
      "epoch: 9/40\tloss_tran / valid:1.8973e+00 / 2.0126e+00\tcurrent_lr:1.000000\n",
      "epoch: 10/40\tloss_tran / valid:1.6025e+00 / 1.7852e+00\tcurrent_lr:1.000000\n",
      "epoch: 11/40\tloss_tran / valid:1.0941e+00 / 1.4386e+00\tcurrent_lr:0.500000\n",
      "epoch: 12/40\tloss_tran / valid:7.8954e-01 / 1.3302e+00\tcurrent_lr:0.250000\n",
      "epoch: 13/40\tloss_tran / valid:6.3895e-01 / 1.2564e+00\tcurrent_lr:0.125000\n",
      "epoch: 14/40\tloss_tran / valid:5.6419e-01 / 1.2523e+00\tcurrent_lr:0.062500\n",
      "epoch: 15/40\tloss_tran / valid:5.2693e-01 / 1.2374e+00\tcurrent_lr:0.031250\n",
      "epoch: 16/40\tloss_tran / valid:5.0817e-01 / 1.2323e+00\tcurrent_lr:0.015625\n",
      "epoch: 17/40\tloss_tran / valid:4.9855e-01 / 1.2290e+00\tcurrent_lr:0.007812\n",
      "epoch: 18/40\tloss_tran / valid:4.9298e-01 / 1.2281e+00\tcurrent_lr:0.003906\n",
      "epoch: 19/40\tloss_tran / valid:4.9147e-01 / 1.2278e+00\tcurrent_lr:0.001953\n",
      "epoch: 20/40\tloss_tran / valid:4.9006e-01 / 1.2273e+00\tcurrent_lr:0.000977\n",
      "epoch: 21/40\tloss_tran / valid:4.9033e-01 / 1.2272e+00\tcurrent_lr:0.000488\n",
      "epoch: 22/40\tloss_tran / valid:4.8984e-01 / 1.2271e+00\tcurrent_lr:0.000244\n",
      "epoch: 23/40\tloss_tran / valid:4.8920e-01 / 1.2270e+00\tcurrent_lr:0.000122\n",
      "epoch: 24/40\tloss_tran / valid:4.8865e-01 / 1.2270e+00\tcurrent_lr:0.000061\n",
      "epoch: 25/40\tloss_tran / valid:4.8874e-01 / 1.2270e+00\tcurrent_lr:0.000031\n",
      "epoch: 26/40\tloss_tran / valid:4.8981e-01 / 1.2270e+00\tcurrent_lr:0.000015\n",
      "epoch: 27/40\tloss_tran / valid:4.8888e-01 / 1.2270e+00\tcurrent_lr:0.000008\n",
      "epoch: 28/40\tloss_tran / valid:4.8949e-01 / 1.2270e+00\tcurrent_lr:0.000004\n",
      "epoch: 29/40\tloss_tran / valid:4.9046e-01 / 1.2270e+00\tcurrent_lr:0.000002\n",
      "epoch: 30/40\tloss_tran / valid:4.9041e-01 / 1.2270e+00\tcurrent_lr:0.000001\n",
      "epoch: 31/40\tloss_tran / valid:4.8993e-01 / 1.2270e+00\tcurrent_lr:0.000001\n",
      "epoch: 32/40\tloss_tran / valid:4.8901e-01 / 1.2270e+00\tcurrent_lr:0.000001\n",
      "epoch: 33/40\tloss_tran / valid:4.9011e-01 / 1.2270e+00\tcurrent_lr:0.000001\n",
      "epoch: 34/40\tloss_tran / valid:4.9009e-01 / 1.2270e+00\tcurrent_lr:0.000001\n",
      "epoch: 35/40\tloss_tran / valid:4.8882e-01 / 1.2270e+00\tcurrent_lr:0.000001\n",
      "epoch: 36/40\tloss_tran / valid:4.9033e-01 / 1.2270e+00\tcurrent_lr:0.000001\n",
      "epoch: 37/40\tloss_tran / valid:4.8898e-01 / 1.2270e+00\tcurrent_lr:0.000001\n",
      "epoch: 38/40\tloss_tran / valid:4.9108e-01 / 1.2270e+00\tcurrent_lr:0.000001\n",
      "epoch: 39/40\tloss_tran / valid:4.9018e-01 / 1.2270e+00\tcurrent_lr:0.000001\n",
      "epoch: 40/40\tloss_tran / valid:4.8908e-01 / 1.2270e+00\tcurrent_lr:0.000001\n",
      "0:14:11.234754\n"
     ]
    }
   ],
   "source": [
    "## 훈련 시작!\n",
    "train_loss, valid_loss = trainer_class.train(loader.train_iter, loader.valid_iter)"
   ]
  },
  {
   "cell_type": "markdown",
   "metadata": {},
   "source": [
    "# 강화학습\n",
    "훈련된 모델에 BLEU값을 더 높이기 위해 loss에 반영하여 성능 더 높이기\n",
    "Minimum Risk Training 방법이라고 불림"
   ]
  },
  {
   "cell_type": "code",
   "execution_count": 9,
   "metadata": {},
   "outputs": [
    {
     "name": "stdout",
     "output_type": "stream",
     "text": [
      "Reinforcement Learning Start\n",
      "train start - epoch : 60 / 2019-01-18 17:18:26.108898\n",
      "epoch: 41/60\tloss_tran / valid:5.5169e+01 / 6.0028e+01\tcurrent_lr:0.010000\n",
      "epoch: 42/60\tloss_tran / valid:5.5507e+01 / 6.0894e+01\tcurrent_lr:0.010000\n",
      "epoch: 43/60\tloss_tran / valid:5.5759e+01 / 6.0556e+01\tcurrent_lr:0.010000\n",
      "epoch: 44/60\tloss_tran / valid:5.6222e+01 / 5.9706e+01\tcurrent_lr:0.010000\n",
      "epoch: 45/60\tloss_tran / valid:5.6880e+01 / 5.8821e+01\tcurrent_lr:0.010000\n",
      "epoch: 46/60\tloss_tran / valid:5.7003e+01 / 5.8176e+01\tcurrent_lr:0.010000\n",
      "epoch: 47/60\tloss_tran / valid:5.7318e+01 / 5.8793e+01\tcurrent_lr:0.010000\n",
      "epoch: 48/60\tloss_tran / valid:5.7549e+01 / 5.8297e+01\tcurrent_lr:0.010000\n",
      "epoch: 49/60\tloss_tran / valid:5.7789e+01 / 5.8830e+01\tcurrent_lr:0.010000\n",
      "epoch: 50/60\tloss_tran / valid:5.8177e+01 / 5.8994e+01\tcurrent_lr:0.010000\n",
      "epoch: 51/60\tloss_tran / valid:5.8355e+01 / 5.8307e+01\tcurrent_lr:0.010000\n",
      "epoch: 52/60\tloss_tran / valid:5.8475e+01 / 5.8473e+01\tcurrent_lr:0.010000\n",
      "epoch: 53/60\tloss_tran / valid:5.8950e+01 / 5.8795e+01\tcurrent_lr:0.010000\n",
      "epoch: 54/60\tloss_tran / valid:5.8675e+01 / 5.9342e+01\tcurrent_lr:0.010000\n",
      "epoch: 55/60\tloss_tran / valid:5.8811e+01 / 5.9246e+01\tcurrent_lr:0.010000\n",
      "epoch: 56/60\tloss_tran / valid:5.9034e+01 / 5.9327e+01\tcurrent_lr:0.010000\n",
      "epoch: 57/60\tloss_tran / valid:5.9530e+01 / 5.9823e+01\tcurrent_lr:0.010000\n",
      "0:13:25.326797\n"
     ]
    }
   ],
   "source": [
    "## !! Start reinforcement learning.\n",
    "if config.rl_n_epochs > 0:\n",
    "    print('Reinforcement Learning Start')\n",
    "    rl_trainer = MinimumRiskTrainer(model,\n",
    "                                    crit,\n",
    "                                    config=config,\n",
    "                                    src_vocab=loader.src.vocab,\n",
    "                                    tgt_vocab=loader.tgt.vocab,\n",
    "                                    )\n",
    "    if saved_data is not None:\n",
    "        rl_trainer.best = saved_data\n",
    "        if rl_trainer.best['epoch'] == config.n_epochs:\n",
    "            rl_trainer.best['current_lr'] = config.rl_lr\n",
    "        rl_trainer.get_best_model()\n",
    "    train_BLEU, valid_BLEU = rl_trainer.train(loader.train_iter, loader.valid_iter)"
   ]
  },
  {
   "cell_type": "code",
   "execution_count": 12,
   "metadata": {},
   "outputs": [
    {
     "data": {
      "image/png": "[encoded data removed]",
      "text/plain": [
       "<Figure size 432x288 with 1 Axes>"
      ]
     },
     "metadata": {
      "needs_background": "light"
     },
     "output_type": "display_data"
    }
   ],
   "source": [
    "## !! plot\n",
    "fig, loss_ax = plt.subplots()\n",
    "loss_ax.plot(train_loss, 'r', label='train loss')\n",
    "loss_ax.plot(valid_loss, 'b', label='val loss')\n",
    "loss_ax.set_xlabel('Epoch')\n",
    "loss_ax.set_ylabel('Loss')\n",
    "loss_ax.legend(loc='upper right')\n",
    "plt.title('Training - Loss')\n",
    "plt.show()"
   ]
  },
  {
   "cell_type": "code",
   "execution_count": 13,
   "metadata": {},
   "outputs": [
    {
     "data": {
      "image/png": "[encoded data removed]",
      "text/plain": [
       "<Figure size 432x288 with 1 Axes>"
      ]
     },
     "metadata": {
      "needs_background": "light"
     },
     "output_type": "display_data"
    }
   ],
   "source": [
    "## !! plot\n",
    "fig, loss_ax = plt.subplots()\n",
    "x = range(config.n_epochs, config.n_epochs+len(train_BLEU))\n",
    "loss_ax.plot(x, train_BLEU, 'r', label='train BLEU')\n",
    "loss_ax.plot(x, valid_BLEU, 'b', label='val BLEU')\n",
    "loss_ax.set_xlabel('Epoch')\n",
    "loss_ax.set_ylabel('BLEU')\n",
    "loss_ax.legend(loc='upper right')\n",
    "plt.title('Reinforcement - BLEU')\n",
    "plt.show()"
   ]
  },
  {
   "cell_type": "code",
   "execution_count": null,
   "metadata": {},
   "outputs": [],
   "source": []
  }
 ],
 "metadata": {
  "kernelspec": {
   "display_name": "Python 3",
   "language": "python",
   "name": "python3"
  },
  "language_info": {
   "codemirror_mode": {
    "name": "ipython",
    "version": 3
   },
   "file_extension": ".py",
   "mimetype": "text/x-python",
   "name": "python",
   "nbconvert_exporter": "python",
   "pygments_lexer": "ipython3",
   "version": "3.7.0"
  }
 },
 "nbformat": 4,
 "nbformat_minor": 2
}
